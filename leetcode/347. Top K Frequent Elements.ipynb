{
 "cells": [
  {
   "cell_type": "markdown",
   "source": [
    "O(n Log n), 102ms"
   ],
   "metadata": {
    "collapsed": false
   },
   "id": "3dd200c3dc30bb7d"
  },
  {
   "cell_type": "code",
   "execution_count": null,
   "id": "initial_id",
   "metadata": {
    "collapsed": true
   },
   "outputs": [],
   "source": [
    "import collections\n",
    "from collections import defaultdict\n",
    "from typing import List\n",
    "\n",
    "\n",
    "def topKFrequent(nums: List[int], k: int) -> List[int]:\n",
    "    d = defaultdict(int)\n",
    "\n",
    "    for n in nums:\n",
    "        d[n] += 1\n",
    "\n",
    "    values = sorted(d.items(), key=lambda item: item[1], reverse=True)\n",
    "\n",
    "    return [key for key, _ in values[:k]]"
   ]
  },
  {
   "cell_type": "code",
   "execution_count": null,
   "outputs": [],
   "source": [
    "nums = [1,1,1,2,2,3]\n",
    "k = 2\n",
    "topKFrequent(nums, k)"
   ],
   "metadata": {
    "collapsed": false
   },
   "id": "6ac8c0f5ec55edb2"
  },
  {
   "cell_type": "markdown",
   "source": [
    "collections.Counter로 빈도수 맵을 쉽게 만들 수 있음\n",
    "`for num, freq in collections.Counter(nums).items():`\n",
    "\n",
    "정렬하지 않고 2차원 리스트로 푸는 방법"
   ],
   "metadata": {
    "collapsed": false
   },
   "id": "ed4704aa5548587"
  },
  {
   "cell_type": "code",
   "execution_count": null,
   "outputs": [],
   "source": [
    "\n",
    "def topKFrequent(nums: List[int], k: int) -> List[int]:\n",
    "    bucket = [[] for _ in range(len(nums) + 1)]\n",
    "    for num, freq in collections.Counter(nums).items():\n",
    "        bucket[freq].append(num)\n",
    "        \n",
    "    ans = []\n",
    "    for i in bucket[::-1]:\n",
    "        if len(i): ans += i\n",
    "        if len(ans) >= k: return ans[ : k]\n",
    "    return ans"
   ],
   "metadata": {
    "collapsed": false
   },
   "id": "52e23972d694469f"
  },
  {
   "cell_type": "code",
   "execution_count": null,
   "outputs": [],
   "source": [
    "nums = [1,1,1,2,2,3,3]\n",
    "k = 2\n",
    "topKFrequent(nums, k)"
   ],
   "metadata": {
    "collapsed": false
   },
   "id": "faad2f9a16a1d17d"
  },
  {
   "cell_type": "markdown",
   "source": [
    "Counter(nums).most_common(k) 사용"
   ],
   "metadata": {
    "collapsed": false
   },
   "id": "f19ff7a3126c4857"
  },
  {
   "cell_type": "code",
   "execution_count": 178,
   "outputs": [],
   "source": [
    "from collections import Counter\n",
    "\n",
    "\n",
    "def topKFrequent(nums: List[int], k: int) -> List[int]:\n",
    "    return [key for key, count in Counter(nums).most_common(k)]"
   ],
   "metadata": {
    "collapsed": false,
    "ExecuteTime": {
     "end_time": "2023-11-30T04:41:12.566248Z",
     "start_time": "2023-11-30T04:41:12.560427Z"
    }
   },
   "id": "748669da3ba04c1e"
  },
  {
   "cell_type": "code",
   "execution_count": 179,
   "outputs": [
    {
     "data": {
      "text/plain": "[1, 2]"
     },
     "execution_count": 179,
     "metadata": {},
     "output_type": "execute_result"
    }
   ],
   "source": [
    "nums = [1,1,1,2,2,3,3]\n",
    "k = 2\n",
    "topKFrequent(nums, k)"
   ],
   "metadata": {
    "collapsed": false,
    "ExecuteTime": {
     "end_time": "2023-11-30T04:41:12.880624Z",
     "start_time": "2023-11-30T04:41:12.870608Z"
    }
   },
   "id": "d865d7923ae9c220"
  },
  {
   "cell_type": "markdown",
   "source": [
    "priority queue 사용"
   ],
   "metadata": {
    "collapsed": false
   },
   "id": "176b1f124cbf730"
  },
  {
   "cell_type": "code",
   "execution_count": 184,
   "outputs": [],
   "source": [
    "import heapq\n",
    "\n",
    "\n",
    "def topKFrequent(nums: List[int], k: int) -> List[int]:\n",
    "    heap = []\n",
    "\n",
    "    for key, value in Counter(nums).items():\n",
    "        heapq.heappush(heap, (value, key))\n",
    "        if len(heap) > k:\n",
    "            heapq.heappop(heap)\n",
    "\n",
    "    return [pair[1] for pair in heap]"
   ],
   "metadata": {
    "collapsed": false,
    "ExecuteTime": {
     "end_time": "2023-11-30T04:42:13.162210Z",
     "start_time": "2023-11-30T04:42:13.155687Z"
    }
   },
   "id": "62c8d7e1ec98fa8b"
  },
  {
   "cell_type": "code",
   "execution_count": 185,
   "outputs": [
    {
     "data": {
      "text/plain": "[3, 1]"
     },
     "execution_count": 185,
     "metadata": {},
     "output_type": "execute_result"
    }
   ],
   "source": [
    "nums = [1,1,1,2,2,3,3]\n",
    "k = 2\n",
    "topKFrequent(nums, k)"
   ],
   "metadata": {
    "collapsed": false,
    "ExecuteTime": {
     "end_time": "2023-11-30T04:42:13.525864Z",
     "start_time": "2023-11-30T04:42:13.519706Z"
    }
   },
   "id": "b0cf5537aa5e1fd5"
  },
  {
   "cell_type": "code",
   "execution_count": null,
   "outputs": [],
   "source": [],
   "metadata": {
    "collapsed": false
   },
   "id": "e41f99c8002e3a98"
  }
 ],
 "metadata": {
  "kernelspec": {
   "display_name": "Python 3",
   "language": "python",
   "name": "python3"
  },
  "language_info": {
   "codemirror_mode": {
    "name": "ipython",
    "version": 2
   },
   "file_extension": ".py",
   "mimetype": "text/x-python",
   "name": "python",
   "nbconvert_exporter": "python",
   "pygments_lexer": "ipython2",
   "version": "2.7.6"
  }
 },
 "nbformat": 4,
 "nbformat_minor": 5
}
