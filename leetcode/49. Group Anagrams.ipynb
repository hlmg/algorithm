{
 "cells": [
  {
   "cell_type": "code",
   "execution_count": 49,
   "id": "initial_id",
   "metadata": {
    "collapsed": true,
    "ExecuteTime": {
     "end_time": "2023-11-30T02:36:02.718090Z",
     "start_time": "2023-11-30T02:36:02.712988Z"
    }
   },
   "outputs": [],
   "source": [
    "from collections import defaultdict\n",
    "from typing import List\n",
    "\n",
    "\n",
    "def groupAnagrams(strs: List[str]) -> List[List[str]]:\n",
    "    anagrams = defaultdict(list)\n",
    "    \n",
    "    for s in strs:\n",
    "        key = str(sorted(s))\n",
    "        anagrams[key].append(s)\n",
    "            \n",
    "    return anagrams.values()"
   ]
  },
  {
   "cell_type": "code",
   "execution_count": 50,
   "outputs": [
    {
     "data": {
      "text/plain": "dict_values([['eat', 'tea', 'ate'], ['tan', 'nat'], ['bat']])"
     },
     "execution_count": 50,
     "metadata": {},
     "output_type": "execute_result"
    }
   ],
   "source": [
    "strs = [\"eat\",\"tea\",\"tan\",\"ate\",\"nat\",\"bat\"]\n",
    "groupAnagrams(strs)"
   ],
   "metadata": {
    "collapsed": false,
    "ExecuteTime": {
     "end_time": "2023-11-30T02:36:02.870309Z",
     "start_time": "2023-11-30T02:36:02.864713Z"
    }
   },
   "id": "60fa1962f805f926"
  },
  {
   "cell_type": "markdown",
   "source": [
    "sorted로 정렬된 문자 리스트를 String으로 변환하기\n",
    "''.join(sorted(word))"
   ],
   "metadata": {
    "collapsed": false
   },
   "id": "291d7e193a06f554"
  },
  {
   "cell_type": "code",
   "execution_count": 51,
   "outputs": [],
   "source": [
    "def groupAnagrams(strs: List[str]) -> List[List[str]]:\n",
    "    anagrams = defaultdict(list)\n",
    "    \n",
    "    for s in strs:\n",
    "        key = ''.join(sorted(s))\n",
    "        anagrams[key].append(s)\n",
    "            \n",
    "    return anagrams.values()"
   ],
   "metadata": {
    "collapsed": false,
    "ExecuteTime": {
     "end_time": "2023-11-30T02:39:52.932018Z",
     "start_time": "2023-11-30T02:39:52.918891Z"
    }
   },
   "id": "4d1396b3bcc7963a"
  },
  {
   "cell_type": "code",
   "execution_count": 52,
   "outputs": [
    {
     "data": {
      "text/plain": "dict_values([['eat', 'tea', 'ate'], ['tan', 'nat'], ['bat']])"
     },
     "execution_count": 52,
     "metadata": {},
     "output_type": "execute_result"
    }
   ],
   "source": [
    "strs = [\"eat\",\"tea\",\"tan\",\"ate\",\"nat\",\"bat\"]\n",
    "groupAnagrams(strs)"
   ],
   "metadata": {
    "collapsed": false,
    "ExecuteTime": {
     "end_time": "2023-11-30T02:39:54.414151Z",
     "start_time": "2023-11-30T02:39:54.392985Z"
    }
   },
   "id": "300dd800f8da3792"
  },
  {
   "cell_type": "code",
   "execution_count": null,
   "outputs": [],
   "source": [],
   "metadata": {
    "collapsed": false
   },
   "id": "c5e5fbfa798411a2"
  }
 ],
 "metadata": {
  "kernelspec": {
   "display_name": "Python 3",
   "language": "python",
   "name": "python3"
  },
  "language_info": {
   "codemirror_mode": {
    "name": "ipython",
    "version": 2
   },
   "file_extension": ".py",
   "mimetype": "text/x-python",
   "name": "python",
   "nbconvert_exporter": "python",
   "pygments_lexer": "ipython2",
   "version": "2.7.6"
  }
 },
 "nbformat": 4,
 "nbformat_minor": 5
}
