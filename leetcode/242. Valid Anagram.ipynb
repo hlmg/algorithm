{
 "cells": [
  {
   "cell_type": "code",
   "execution_count": 66,
   "id": "initial_id",
   "metadata": {
    "collapsed": true,
    "ExecuteTime": {
     "end_time": "2023-11-30T01:37:06.780447Z",
     "start_time": "2023-11-30T01:37:06.742801Z"
    }
   },
   "outputs": [],
   "source": [
    "def isAnagram(s: str, t: str) -> bool:\n",
    "    if len(s) != len(t):\n",
    "        return False\n",
    "    \n",
    "    s = sorted(s)\n",
    "    t = sorted(t)\n",
    "    return s == t"
   ]
  },
  {
   "cell_type": "code",
   "execution_count": 67,
   "outputs": [
    {
     "data": {
      "text/plain": "True"
     },
     "execution_count": 67,
     "metadata": {},
     "output_type": "execute_result"
    }
   ],
   "source": [
    "isAnagram(\"acb\", \"bac\")"
   ],
   "metadata": {
    "collapsed": false,
    "ExecuteTime": {
     "end_time": "2023-11-30T01:37:06.782163Z",
     "start_time": "2023-11-30T01:37:06.748809Z"
    }
   },
   "id": "6be433db0d1e81"
  },
  {
   "cell_type": "markdown",
   "source": [
    "# defaultdict\n",
    "- key가 없으면 인자로 전달되는 default_factory 의 기본값을 초기값으로 지정한다.\n",
    "- 아래 코드에서는 int의 기본값인 0으로 설정됨"
   ],
   "metadata": {
    "collapsed": false
   },
   "id": "a03c00d79a3ccc2e"
  },
  {
   "cell_type": "code",
   "execution_count": 68,
   "outputs": [],
   "source": [
    "from collections import defaultdict\n",
    "\n",
    "\n",
    "def isAnagram(s: str, t: str) -> bool:\n",
    "    count = defaultdict(int)\n",
    "    \n",
    "    for x in s:\n",
    "        count[x] += 1\n",
    "        \n",
    "    for x in t:\n",
    "        count[x] -= 1\n",
    "    \n",
    "    for val in count.values():\n",
    "        if val != 0:\n",
    "            return False\n",
    "        \n",
    "    return True"
   ],
   "metadata": {
    "collapsed": false,
    "ExecuteTime": {
     "end_time": "2023-11-30T01:37:06.807550Z",
     "start_time": "2023-11-30T01:37:06.758529Z"
    }
   },
   "id": "ffe43259ddf3e950"
  },
  {
   "cell_type": "code",
   "execution_count": 69,
   "outputs": [
    {
     "data": {
      "text/plain": "True"
     },
     "execution_count": 69,
     "metadata": {},
     "output_type": "execute_result"
    }
   ],
   "source": [
    "isAnagram(\"acb\", \"bac\")"
   ],
   "metadata": {
    "collapsed": false,
    "ExecuteTime": {
     "end_time": "2023-11-30T01:37:06.824845Z",
     "start_time": "2023-11-30T01:37:06.767971Z"
    }
   },
   "id": "8261364122fe76bf"
  },
  {
   "cell_type": "markdown",
   "source": [
    "# ascii 값 사용\n",
    "ascii 값을 배열 index로 사용\n",
    "## ord()\n",
    "문자 -> ascii 값"
   ],
   "metadata": {
    "collapsed": false
   },
   "id": "14e2504b27b07a62"
  },
  {
   "cell_type": "code",
   "execution_count": 70,
   "outputs": [
    {
     "data": {
      "text/plain": "65"
     },
     "execution_count": 70,
     "metadata": {},
     "output_type": "execute_result"
    }
   ],
   "source": [
    "ord('A')"
   ],
   "metadata": {
    "collapsed": false,
    "ExecuteTime": {
     "end_time": "2023-11-30T01:37:06.827441Z",
     "start_time": "2023-11-30T01:37:06.774799Z"
    }
   },
   "id": "c52235f3cb117768"
  },
  {
   "cell_type": "markdown",
   "source": [
    "## chr()\n",
    "ascii 값 -> 문자"
   ],
   "metadata": {
    "collapsed": false
   },
   "id": "3059cc00d16df5c2"
  },
  {
   "cell_type": "code",
   "execution_count": 71,
   "outputs": [
    {
     "data": {
      "text/plain": "'A'"
     },
     "execution_count": 71,
     "metadata": {},
     "output_type": "execute_result"
    }
   ],
   "source": [
    "chr(65)"
   ],
   "metadata": {
    "collapsed": false,
    "ExecuteTime": {
     "end_time": "2023-11-30T01:37:06.828821Z",
     "start_time": "2023-11-30T01:37:06.783830Z"
    }
   },
   "id": "8d04cd9778aa6cfc"
  },
  {
   "cell_type": "code",
   "execution_count": 72,
   "outputs": [],
   "source": [
    "def isAnagram(s: str, t: str) -> bool:\n",
    "    count = [0] * 26\n",
    "    \n",
    "    for x in s:\n",
    "        count[ord(x) - ord('a')] += 1\n",
    "        \n",
    "    for x in t:\n",
    "        count[ord(x) - ord('a')] -= 1\n",
    "    \n",
    "    for val in count:\n",
    "        if val != 0:\n",
    "            return False\n",
    "        \n",
    "    return True"
   ],
   "metadata": {
    "collapsed": false,
    "ExecuteTime": {
     "end_time": "2023-11-30T01:37:06.836174Z",
     "start_time": "2023-11-30T01:37:06.804146Z"
    }
   },
   "id": "ba24f2a07326d8f2"
  },
  {
   "cell_type": "code",
   "execution_count": 73,
   "outputs": [
    {
     "data": {
      "text/plain": "True"
     },
     "execution_count": 73,
     "metadata": {},
     "output_type": "execute_result"
    }
   ],
   "source": [
    "isAnagram(\"acb\", \"bac\")"
   ],
   "metadata": {
    "collapsed": false,
    "ExecuteTime": {
     "end_time": "2023-11-30T01:37:06.837219Z",
     "start_time": "2023-11-30T01:37:06.810302Z"
    }
   },
   "id": "f89ab7c3a17c325f"
  },
  {
   "cell_type": "code",
   "execution_count": 73,
   "outputs": [],
   "source": [],
   "metadata": {
    "collapsed": false,
    "ExecuteTime": {
     "end_time": "2023-11-30T01:37:06.837496Z",
     "start_time": "2023-11-30T01:37:06.816705Z"
    }
   },
   "id": "61d6e9873ee7b6bb"
  }
 ],
 "metadata": {
  "kernelspec": {
   "display_name": "Python 3",
   "language": "python",
   "name": "python3"
  },
  "language_info": {
   "codemirror_mode": {
    "name": "ipython",
    "version": 2
   },
   "file_extension": ".py",
   "mimetype": "text/x-python",
   "name": "python",
   "nbconvert_exporter": "python",
   "pygments_lexer": "ipython2",
   "version": "2.7.6"
  }
 },
 "nbformat": 4,
 "nbformat_minor": 5
}
